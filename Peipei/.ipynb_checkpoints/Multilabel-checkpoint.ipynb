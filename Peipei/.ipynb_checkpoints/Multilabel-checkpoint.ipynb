{
 "cells": [
  {
   "cell_type": "markdown",
   "metadata": {},
   "source": [
    "# Prepare the data"
   ]
  },
  {
   "cell_type": "code",
   "execution_count": 1,
   "metadata": {},
   "outputs": [],
   "source": [
    "import sys,os\n",
    "import pandas as pd\n",
    "from sklearn.preprocessing import OneHotEncoder\n",
    "import numpy as np"
   ]
  },
  {
   "cell_type": "code",
   "execution_count": null,
   "metadata": {},
   "outputs": [],
   "source": [
    "# all the gene-pathway annotation\n",
    "df = pd.read_csv('Sly_pathway_annotation_20180827_with_expression_5_members.txt',header=None,index_col=None,sep='\\t')\n",
    "# gene-pathway annotation for only non-overlapping genes in 85 pathways\n",
    "df_uni = pd.read_csv('Sly_pathway_annotation_20190117_with_expression_5_members_nonoverlapping.txt',header=None,index_col=None,sep='\\t')\n",
    "df.columns = ['Pathway','Gene']\n",
    "pathway = df_uni[0].unique()\n",
    "# to get back genes with multiple pathway annotation in only those 85 pathways\n",
    "df_85 = df[df['Pathway'].isin(pathway)]\n",
    "gene = df_85['Gene'].unique()\n",
    "df_85.index = df_85['Gene']\n",
    "df_85 = df_85.drop(['Gene'],axis=1)\n",
    "df_85.columns = ['Pathway']"
   ]
  },
  {
   "cell_type": "markdown",
   "metadata": {},
   "source": [
    "### make the multiple labels, using OneHotEncoder"
   ]
  },
  {
   "cell_type": "code",
   "execution_count": null,
   "metadata": {},
   "outputs": [],
   "source": [
    "cat_encoder = OneHotEncoder() # or cat_encoder = OneHotEncoder(sparse=False)\n",
    "df_85_1hot = cat_encoder.fit_transform(df_85)\n",
    "labels = pd.DataFrame(df_85_1hot.toarray()) # or labels = pd.DataFrame(df_85_1hot)\n",
    "labels.columns = cat_encoder.categories_[0]\n",
    "labels.index = df_85.index\n",
    "# group rows with same index ID, add up the 1s\n",
    "gp = labels.groupby(level=0).sum()"
   ]
  },
  {
   "cell_type": "markdown",
   "metadata": {},
   "source": [
    "### parse the expression matrix, here FCs in all combination were used"
   ]
  },
  {
   "cell_type": "code",
   "execution_count": null,
   "metadata": {},
   "outputs": [],
   "source": [
    "exp = pd.read_csv('Results_Fold_changes_all_combination_Sly_20180124.txt',header=0,index_col=None,sep='\\t')\n",
    "exp_85 = exp[exp['gene'].isin(gene)]\n",
    "exp_85.index = exp_85['gene']\n",
    "exp_85 = exp_85.drop('gene',axis=1)\n",
    "res = pd.concat([gp,exp_85],axis=1)\n",
    "res.to_csv('Multilabel_85_pathways_matrix_all_FC.txt',index=True, header=True,sep=\"\\t\")"
   ]
  }
 ],
 "metadata": {
  "kernelspec": {
   "display_name": "Python 3",
   "language": "python",
   "name": "python3"
  },
  "language_info": {
   "codemirror_mode": {
    "name": "ipython",
    "version": 3
   },
   "file_extension": ".py",
   "mimetype": "text/x-python",
   "name": "python",
   "nbconvert_exporter": "python",
   "pygments_lexer": "ipython3",
   "version": "3.7.6"
  }
 },
 "nbformat": 4,
 "nbformat_minor": 4
}
